{
 "cells": [
  {
   "cell_type": "code",
   "execution_count": null,
   "metadata": {
    "id": "cAsi6gKOjbQi",
    "pycharm": {
     "name": "#%%\n"
    }
   },
   "outputs": [],
   "source": [
    "import tensorflow\n",
    "from tensorflow import keras\n",
    "from sklearn.datasets import fetch_openml\n",
    "import numpy as np\n",
    "from sklearn.model_selection import train_test_split\n",
    "from keras.wrappers.scikit_learn import KerasClassifier \n",
    "from sklearn.metrics import roc_auc_score\n",
    "import matplotlib.pyplot as plt\n",
    "from keras.models import Sequential\n",
    "from keras.layers import Dense\n",
    "\n",
    "# from keras.optimizers import SGD\n",
    "# from sklearn.datasets import fetch_openml\n",
    "# from sklearn.model_selection import train_test_split\n",
    "# from keras.callbacks import EarlyStopping\n",
    "# import matplotlib.pyplot as plt"
   ]
  },
  {
   "cell_type": "code",
   "execution_count": 27,
   "metadata": {
    "colab": {
     "base_uri": "https://localhost:8080/"
    },
    "id": "iIPv7JfSj6FB",
    "outputId": "13f84ecc-19a3-4b84-87be-167c581be287",
    "pycharm": {
     "name": "#%%\n"
    }
   },
   "outputs": [
    {
     "output_type": "stream",
     "name": "stdout",
     "text": [
      "(70000, 784)\n",
      "(70000,)\n"
     ]
    }
   ],
   "source": [
    "X, y = fetch_openml('mnist_784', version=1, return_X_y=True)\n",
    "X = X.values\n",
    "y = y.astype(int).values\n",
    "\n",
    "print(X.shape)\n",
    "print(y.shape)\n"
   ]
  },
  {
   "cell_type": "markdown",
   "metadata": {
    "id": "ogB3iy_kni09",
    "pycharm": {
     "name": "#%% md\n"
    }
   },
   "source": [
    "normalization"
   ]
  },
  {
   "cell_type": "code",
   "execution_count": 28,
   "metadata": {
    "id": "Yf66FNF-kZXS",
    "pycharm": {
     "name": "#%%\n"
    }
   },
   "outputs": [],
   "source": [
    "# Normalize to [-1, 1] range\n",
    "X = ((X / 255.) - .5) * 2"
   ]
  },
  {
   "cell_type": "code",
   "execution_count": 29,
   "metadata": {
    "id": "o8hsYWIwkUDJ",
    "pycharm": {
     "name": "#%%\n"
    }
   },
   "outputs": [],
   "source": [
    "def int_to_onehot(y, num_labels):\n",
    "\n",
    "    ary = np.zeros((y.shape[0], num_labels))\n",
    "    for i, val in enumerate(y):\n",
    "        ary[i, val] = 1\n",
    "\n",
    "    return ary"
   ]
  },
  {
   "cell_type": "markdown",
   "metadata": {
    "id": "uy-Lv0LYn210",
    "pycharm": {
     "name": "#%% md\n"
    }
   },
   "source": [
    "spliting the data"
   ]
  },
  {
   "cell_type": "code",
   "execution_count": 30,
   "metadata": {
    "id": "hf3aIFyFnZfC",
    "pycharm": {
     "name": "#%%\n"
    }
   },
   "outputs": [],
   "source": [
    "\n",
    "# Split into training, validation, and test set:\n",
    "X_train, X_temp, y_train, y_temp = train_test_split(\n",
    "    X, y, test_size=0.3, random_state=123, stratify=y)\n",
    "\n",
    "X_test, X_valid, y_test, y_valid = train_test_split(\n",
    "    X_temp, y_temp, test_size=0.3, random_state=123, stratify=y_temp)\n",
    "\n",
    "\n",
    "#optional to free up some memory by deleting non-used arrays:\n",
    "del X_temp, y_temp"
   ]
  },
  {
   "cell_type": "code",
   "execution_count": 31,
   "metadata": {
    "id": "Cl7LH35ZoJZv",
    "colab": {
     "base_uri": "https://localhost:8080/"
    },
    "outputId": "d485fc1a-32d5-4666-ba00-e788d51a386f",
    "pycharm": {
     "name": "#%%\n"
    }
   },
   "outputs": [
    {
     "output_type": "stream",
     "name": "stdout",
     "text": [
      "Mounted at /content/drive\n"
     ]
    }
   ],
   "source": [
    "from google.colab import drive\n",
    "drive.mount('/content/drive')"
   ]
  },
  {
   "cell_type": "code",
   "execution_count": 32,
   "metadata": {
    "id": "gpHEg7jhoPUJ",
    "pycharm": {
     "name": "#%%\n"
    }
   },
   "outputs": [],
   "source": [
    "first_layer_nodes = 500\n",
    "num_classes=10\n",
    "\n",
    "model = Sequential()\n",
    "model.add(Dense(first_layer_nodes, input_dim = X_train.shape[1], activation=\"sigmoid\"))\n",
    "model.add(Dense(num_classes, activation='softmax'))\n",
    "model.compile(loss='categorical_crossentropy', optimizer=\"sgd\", metrics=['accuracy'])\n"
   ]
  },
  {
   "cell_type": "code",
   "execution_count": 33,
   "metadata": {
    "colab": {
     "base_uri": "https://localhost:8080/"
    },
    "id": "61YK1e7OsrDm",
    "outputId": "a8d0f05f-b06d-4557-e862-b656c275eb3c",
    "pycharm": {
     "name": "#%%\n"
    }
   },
   "outputs": [
    {
     "output_type": "stream",
     "name": "stdout",
     "text": [
      "Epoch 1/50\n",
      "245/245 [==============================] - 3s 4ms/step - loss: 1.8238 - accuracy: 0.5576 - val_loss: 1.3990 - val_accuracy: 0.7522\n",
      "Epoch 2/50\n",
      "245/245 [==============================] - 1s 3ms/step - loss: 1.1569 - accuracy: 0.7911 - val_loss: 0.9726 - val_accuracy: 0.8167\n",
      "Epoch 3/50\n",
      "245/245 [==============================] - 1s 3ms/step - loss: 0.8596 - accuracy: 0.8276 - val_loss: 0.7739 - val_accuracy: 0.8444\n",
      "Epoch 4/50\n",
      "245/245 [==============================] - 1s 3ms/step - loss: 0.7103 - accuracy: 0.8464 - val_loss: 0.6628 - val_accuracy: 0.8527\n",
      "Epoch 5/50\n",
      "245/245 [==============================] - 1s 3ms/step - loss: 0.6226 - accuracy: 0.8578 - val_loss: 0.5939 - val_accuracy: 0.8616\n",
      "Epoch 6/50\n",
      "245/245 [==============================] - 1s 3ms/step - loss: 0.5647 - accuracy: 0.8642 - val_loss: 0.5462 - val_accuracy: 0.8683\n",
      "Epoch 7/50\n",
      "245/245 [==============================] - 1s 3ms/step - loss: 0.5238 - accuracy: 0.8706 - val_loss: 0.5120 - val_accuracy: 0.8721\n",
      "Epoch 8/50\n",
      "245/245 [==============================] - 1s 3ms/step - loss: 0.4929 - accuracy: 0.8750 - val_loss: 0.4850 - val_accuracy: 0.8792\n",
      "Epoch 9/50\n",
      "245/245 [==============================] - 1s 3ms/step - loss: 0.4690 - accuracy: 0.8784 - val_loss: 0.4640 - val_accuracy: 0.8810\n",
      "Epoch 10/50\n",
      "245/245 [==============================] - 1s 3ms/step - loss: 0.4498 - accuracy: 0.8822 - val_loss: 0.4465 - val_accuracy: 0.8846\n",
      "Epoch 11/50\n",
      "245/245 [==============================] - 1s 3ms/step - loss: 0.4338 - accuracy: 0.8845 - val_loss: 0.4318 - val_accuracy: 0.8881\n",
      "Epoch 12/50\n",
      "245/245 [==============================] - 1s 3ms/step - loss: 0.4205 - accuracy: 0.8869 - val_loss: 0.4198 - val_accuracy: 0.8903\n",
      "Epoch 13/50\n",
      "245/245 [==============================] - 1s 3ms/step - loss: 0.4091 - accuracy: 0.8888 - val_loss: 0.4097 - val_accuracy: 0.8929\n",
      "Epoch 14/50\n",
      "245/245 [==============================] - 1s 3ms/step - loss: 0.3993 - accuracy: 0.8904 - val_loss: 0.4010 - val_accuracy: 0.8925\n",
      "Epoch 15/50\n",
      "245/245 [==============================] - 1s 3ms/step - loss: 0.3907 - accuracy: 0.8920 - val_loss: 0.3929 - val_accuracy: 0.8948\n",
      "Epoch 16/50\n",
      "245/245 [==============================] - 1s 3ms/step - loss: 0.3831 - accuracy: 0.8934 - val_loss: 0.3844 - val_accuracy: 0.8995\n",
      "Epoch 17/50\n",
      "245/245 [==============================] - 1s 3ms/step - loss: 0.3763 - accuracy: 0.8953 - val_loss: 0.3783 - val_accuracy: 0.8998\n",
      "Epoch 18/50\n",
      "245/245 [==============================] - 1s 3ms/step - loss: 0.3701 - accuracy: 0.8966 - val_loss: 0.3723 - val_accuracy: 0.9010\n",
      "Epoch 19/50\n",
      "245/245 [==============================] - 1s 3ms/step - loss: 0.3647 - accuracy: 0.8971 - val_loss: 0.3671 - val_accuracy: 0.9025\n",
      "Epoch 20/50\n",
      "245/245 [==============================] - 1s 3ms/step - loss: 0.3595 - accuracy: 0.8983 - val_loss: 0.3626 - val_accuracy: 0.9025\n",
      "Epoch 21/50\n",
      "245/245 [==============================] - 1s 3ms/step - loss: 0.3548 - accuracy: 0.8992 - val_loss: 0.3580 - val_accuracy: 0.9027\n",
      "Epoch 22/50\n",
      "245/245 [==============================] - 1s 3ms/step - loss: 0.3507 - accuracy: 0.9001 - val_loss: 0.3538 - val_accuracy: 0.9037\n",
      "Epoch 23/50\n",
      "245/245 [==============================] - 1s 3ms/step - loss: 0.3468 - accuracy: 0.9009 - val_loss: 0.3500 - val_accuracy: 0.9049\n",
      "Epoch 24/50\n",
      "245/245 [==============================] - 1s 3ms/step - loss: 0.3430 - accuracy: 0.9018 - val_loss: 0.3464 - val_accuracy: 0.9052\n",
      "Epoch 25/50\n",
      "245/245 [==============================] - 1s 3ms/step - loss: 0.3396 - accuracy: 0.9030 - val_loss: 0.3438 - val_accuracy: 0.9051\n",
      "Epoch 26/50\n",
      "245/245 [==============================] - 1s 3ms/step - loss: 0.3364 - accuracy: 0.9034 - val_loss: 0.3405 - val_accuracy: 0.9063\n",
      "Epoch 27/50\n",
      "245/245 [==============================] - 1s 3ms/step - loss: 0.3333 - accuracy: 0.9049 - val_loss: 0.3379 - val_accuracy: 0.9071\n",
      "Epoch 28/50\n",
      "245/245 [==============================] - 1s 3ms/step - loss: 0.3305 - accuracy: 0.9052 - val_loss: 0.3344 - val_accuracy: 0.9076\n",
      "Epoch 29/50\n",
      "245/245 [==============================] - 1s 3ms/step - loss: 0.3277 - accuracy: 0.9062 - val_loss: 0.3322 - val_accuracy: 0.9081\n",
      "Epoch 30/50\n",
      "245/245 [==============================] - 1s 3ms/step - loss: 0.3253 - accuracy: 0.9067 - val_loss: 0.3299 - val_accuracy: 0.9084\n",
      "Epoch 31/50\n",
      "245/245 [==============================] - 1s 3ms/step - loss: 0.3229 - accuracy: 0.9076 - val_loss: 0.3275 - val_accuracy: 0.9092\n",
      "Epoch 32/50\n",
      "245/245 [==============================] - 1s 3ms/step - loss: 0.3206 - accuracy: 0.9081 - val_loss: 0.3254 - val_accuracy: 0.9083\n",
      "Epoch 33/50\n",
      "245/245 [==============================] - 1s 3ms/step - loss: 0.3184 - accuracy: 0.9085 - val_loss: 0.3234 - val_accuracy: 0.9092\n",
      "Epoch 34/50\n",
      "245/245 [==============================] - 1s 3ms/step - loss: 0.3163 - accuracy: 0.9090 - val_loss: 0.3210 - val_accuracy: 0.9102\n",
      "Epoch 35/50\n",
      "245/245 [==============================] - 1s 3ms/step - loss: 0.3142 - accuracy: 0.9096 - val_loss: 0.3190 - val_accuracy: 0.9113\n",
      "Epoch 36/50\n",
      "245/245 [==============================] - 1s 3ms/step - loss: 0.3124 - accuracy: 0.9100 - val_loss: 0.3175 - val_accuracy: 0.9103\n",
      "Epoch 37/50\n",
      "245/245 [==============================] - 1s 3ms/step - loss: 0.3104 - accuracy: 0.9106 - val_loss: 0.3162 - val_accuracy: 0.9108\n",
      "Epoch 38/50\n",
      "245/245 [==============================] - 1s 3ms/step - loss: 0.3087 - accuracy: 0.9114 - val_loss: 0.3141 - val_accuracy: 0.9114\n",
      "Epoch 39/50\n",
      "245/245 [==============================] - 1s 3ms/step - loss: 0.3069 - accuracy: 0.9112 - val_loss: 0.3119 - val_accuracy: 0.9119\n",
      "Epoch 40/50\n",
      "245/245 [==============================] - 1s 3ms/step - loss: 0.3052 - accuracy: 0.9125 - val_loss: 0.3104 - val_accuracy: 0.9119\n",
      "Epoch 41/50\n",
      "245/245 [==============================] - 1s 3ms/step - loss: 0.3036 - accuracy: 0.9126 - val_loss: 0.3094 - val_accuracy: 0.9127\n",
      "Epoch 42/50\n",
      "245/245 [==============================] - 1s 4ms/step - loss: 0.3020 - accuracy: 0.9129 - val_loss: 0.3076 - val_accuracy: 0.9130\n",
      "Epoch 43/50\n",
      "245/245 [==============================] - 1s 4ms/step - loss: 0.3005 - accuracy: 0.9137 - val_loss: 0.3064 - val_accuracy: 0.9138\n",
      "Epoch 44/50\n",
      "245/245 [==============================] - 1s 3ms/step - loss: 0.2990 - accuracy: 0.9138 - val_loss: 0.3048 - val_accuracy: 0.9137\n",
      "Epoch 45/50\n",
      "245/245 [==============================] - 1s 3ms/step - loss: 0.2976 - accuracy: 0.9138 - val_loss: 0.3037 - val_accuracy: 0.9141\n",
      "Epoch 46/50\n",
      "245/245 [==============================] - 1s 3ms/step - loss: 0.2963 - accuracy: 0.9146 - val_loss: 0.3024 - val_accuracy: 0.9144\n",
      "Epoch 47/50\n",
      "245/245 [==============================] - 1s 3ms/step - loss: 0.2948 - accuracy: 0.9148 - val_loss: 0.3010 - val_accuracy: 0.9140\n",
      "Epoch 48/50\n",
      "245/245 [==============================] - 1s 3ms/step - loss: 0.2936 - accuracy: 0.9152 - val_loss: 0.2998 - val_accuracy: 0.9159\n",
      "Epoch 49/50\n",
      "245/245 [==============================] - 1s 3ms/step - loss: 0.2922 - accuracy: 0.9155 - val_loss: 0.2981 - val_accuracy: 0.9143\n",
      "Epoch 50/50\n",
      "245/245 [==============================] - 1s 3ms/step - loss: 0.2910 - accuracy: 0.9156 - val_loss: 0.2970 - val_accuracy: 0.9154\n"
     ]
    }
   ],
   "source": [
    "y_train_onehot=int_to_onehot(y_train,10)\n",
    "y_valid_onehot=int_to_onehot(y_valid,10)\n",
    "history = model.fit(X_train, y_train_onehot, batch_size=200, epochs=50, validation_data=[X_valid, y_valid_onehot])\n"
   ]
  },
  {
   "cell_type": "code",
   "execution_count": null,
   "metadata": {
    "id": "vWz0g1DtQky8",
    "pycharm": {
     "name": "#%%\n"
    }
   },
   "outputs": [],
   "source": []
  },
  {
   "cell_type": "code",
   "execution_count": 34,
   "metadata": {
    "colab": {
     "base_uri": "https://localhost:8080/"
    },
    "id": "AzoneijOrrnl",
    "outputId": "bb06f8a7-2eb9-42b8-995b-100f58d83bd9",
    "pycharm": {
     "name": "#%%\n"
    }
   },
   "outputs": [
    {
     "output_type": "stream",
     "name": "stdout",
     "text": [
      "keras Macro ROC AUC:\n",
      "0.9929695042826255\n",
      "Test accuracy: 91.31%\n"
     ]
    }
   ],
   "source": [
    "from scipy.special import softmax\n",
    "from sklearn.metrics import accuracy_score\n",
    "y_pred = model.predict(X_test)\n",
    "pred = softmax(y_pred, axis=1)\n",
    "macro_auc = roc_auc_score(y_test, pred, average='macro',multi_class='ovr')\n",
    "\n",
    "print(\"keras Macro ROC AUC:\")\n",
    "print(macro_auc)\n",
    "\n",
    "from sklearn.metrics import accuracy_score\n",
    "\n",
    "y_pred = np.argmax(y_pred, axis=1)\n",
    "test_acc = accuracy_score(y_test, y_pred)\n",
    "\n",
    "print(f'Test accuracy: {test_acc*100:.2f}%')"
   ]
  },
  {
   "cell_type": "code",
   "execution_count": 35,
   "metadata": {
    "id": "y-cy7ERowUEE",
    "pycharm": {
     "name": "#%%\n"
    }
   },
   "outputs": [],
   "source": [
    "accuracy=history.history['accuracy']\n",
    "loss=history.history['loss']\n",
    "val_accuracy=history.history['val_accuracy']\n",
    "val_loss=history.history['val_loss']\n"
   ]
  },
  {
   "cell_type": "code",
   "execution_count": 36,
   "metadata": {
    "colab": {
     "base_uri": "https://localhost:8080/",
     "height": 279
    },
    "id": "g1dsCw-0rf5Z",
    "outputId": "03b1059b-8686-4a45-f1c6-788e52def78e",
    "pycharm": {
     "name": "#%%\n"
    }
   },
   "outputs": [
    {
     "output_type": "display_data",
     "data": {
      "text/plain": [
       "<Figure size 432x288 with 1 Axes>"
      ],
      "image/png": "[encoded data removed]"
     },
     "metadata": {
      "needs_background": "light"
     }
    }
   ],
   "source": [
    "plt.plot(accuracy,label='Train')\n",
    "plt.plot(val_accuracy,label='Validation')\n",
    "plt.ylabel('Accuracy')\n",
    "plt.xlabel('Epochs')\n",
    "plt.legend(loc='lower right')\n",
    "plt.show()"
   ]
  },
  {
   "cell_type": "code",
   "execution_count": 37,
   "metadata": {
    "colab": {
     "base_uri": "https://localhost:8080/",
     "height": 279
    },
    "id": "jA1JOGt0sElm",
    "outputId": "35aa2426-eab6-47cd-dcbe-53b5a2e66c63",
    "pycharm": {
     "name": "#%%\n"
    }
   },
   "outputs": [
    {
     "output_type": "display_data",
     "data": {
      "text/plain": [
       "<Figure size 432x288 with 1 Axes>"
      ],
      "image/png": "[encoded data removed]"
     },
     "metadata": {
      "needs_background": "light"
     }
    }
   ],
   "source": [
    "plt.plot(loss,label='Train')\n",
    "plt.plot(val_loss,label='Validation')\n",
    "plt.ylabel('loss')\n",
    "plt.xlabel('Epoch')\n",
    "plt.legend(loc='right')\n",
    "plt.show()"
   ]
  },
  {
   "cell_type": "markdown",
   "metadata": {
    "id": "ScsmgN9J72hu",
    "pycharm": {
     "name": "#%% md\n"
    }
   },
   "source": [
    "**ch11** - one layer"
   ]
  },
  {
   "cell_type": "code",
   "execution_count": 23,
   "metadata": {
    "id": "CHEsQApa9zJJ",
    "colab": {
     "base_uri": "https://localhost:8080/"
    },
    "outputId": "1452469a-7106-4f8a-8ee3-6d572244dc9a",
    "pycharm": {
     "name": "#%%\n"
    }
   },
   "outputs": [
    {
     "output_type": "stream",
     "name": "stdout",
     "text": [
      "one layer Macro ROC AUC:\n",
      "0.9965291587228083\n"
     ]
    }
   ],
   "source": [
    "\n",
    "from ch11_one_layer_PythonFile import epoch_loss,epoch_train_acc,epoch_valid_acc, macro_auc\n",
    "epoch_loss_1,epoch_train_acc_1,epoch_valid_acc_1,macro_auc_1=epoch_loss,epoch_train_acc,epoch_valid_acc ,macro_auc\n",
    "print(\"one layer Macro ROC AUC:\")\n",
    "print(macro_auc_1)"
   ]
  },
  {
   "cell_type": "markdown",
   "source": [
    "**ch11** - 2 layers"
   ],
   "metadata": {
    "id": "WM-fJWNoGZwE",
    "pycharm": {
     "name": "#%% md\n"
    }
   }
  },
  {
   "cell_type": "code",
   "execution_count": 25,
   "metadata": {
    "colab": {
     "base_uri": "https://localhost:8080/"
    },
    "id": "0070ZetomHU5",
    "outputId": "0fed2ee9-2e48-4059-a575-7d9b3070fcb1",
    "pycharm": {
     "name": "#%%\n"
    }
   },
   "outputs": [
    {
     "output_type": "stream",
     "name": "stdout",
     "text": [
      "2 layers Macro ROC AUC:\n",
      "0.9965291587228083\n"
     ]
    }
   ],
   "source": [
    "from chr11_two_layers_PythonFile import epoch_loss,epoch_train_acc,epoch_train_acc\n",
    "epoch_loss_2,epoch_train_acc_2,epoch_valid_acc_2,macro_auc_2=epoch_loss,epoch_train_acc,epoch_valid_acc,macro_auc\n",
    "print(\"2 layers Macro ROC AUC:\")\n",
    "print(macro_auc_1)\n"
   ]
  },
  {
   "cell_type": "code",
   "source": [
    "accuracy=[i*100 for i in accuracy]\n",
    "val_accuracy=[i*100 for i in val_accuracy]\n",
    "\n",
    "plt.plot(accuracy,label='Train_keras')\n",
    "plt.plot(val_accuracy,label='Validation_keras')\n",
    "\n",
    "plt.plot(epoch_train_acc_1,label='Train Numpy 1 layer')\n",
    "plt.plot(epoch_valid_acc_1,label='Validation Numpy 1 layer')\n",
    "\n",
    "plt.plot(epoch_train_acc_2,label='Train Numpy 2 layers')\n",
    "plt.plot(epoch_valid_acc_2,label='Validation Numpy 2 layers')\n",
    "\n",
    "plt.ylabel('Accuracy')\n",
    "plt.xlabel('Epochs')\n",
    "plt.legend(loc='lower right')\n",
    "plt.show()"
   ],
   "metadata": {
    "colab": {
     "base_uri": "https://localhost:8080/",
     "height": 281
    },
    "id": "_Z9QF1iTGesU",
    "outputId": "a8505207-ad11-4cc5-c167-675d2753babc",
    "pycharm": {
     "name": "#%%\n"
    }
   },
   "execution_count": 43,
   "outputs": [
    {
     "output_type": "display_data",
     "data": {
      "text/plain": [
       "<Figure size 432x288 with 1 Axes>"
      ],
      "image/png": "[encoded data removed]"
     },
     "metadata": {
      "needs_background": "light"
     }
    }
   ]
  }
 ],
 "metadata": {
  "accelerator": "GPU",
  "colab": {
   "collapsed_sections": [],
   "name": "part.ipynb",
   "provenance": []
  },
  "gpuClass": "standard",
  "kernelspec": {
   "display_name": "Python 3",
   "name": "python3"
  },
  "language_info": {
   "name": "python"
  }
 },
 "nbformat": 4,
 "nbformat_minor": 0
}